{
 "cells": [
  {
   "cell_type": "code",
   "execution_count": 1,
   "metadata": {},
   "outputs": [],
   "source": [
    "import numpy as np\n",
    "import matplotlib.pyplot as plt\n",
    "import pandas as pd\n",
    "from keras.optimizers import Adam\n",
    "from sklearn.preprocessing import MinMaxScaler"
   ]
  },
  {
   "cell_type": "code",
   "execution_count": 2,
   "metadata": {},
   "outputs": [
    {
     "data": {
      "text/html": [
       "<div>\n",
       "<style scoped>\n",
       "    .dataframe tbody tr th:only-of-type {\n",
       "        vertical-align: middle;\n",
       "    }\n",
       "\n",
       "    .dataframe tbody tr th {\n",
       "        vertical-align: top;\n",
       "    }\n",
       "\n",
       "    .dataframe thead th {\n",
       "        text-align: right;\n",
       "    }\n",
       "</style>\n",
       "<table border=\"1\" class=\"dataframe\">\n",
       "  <thead>\n",
       "    <tr style=\"text-align: right;\">\n",
       "      <th></th>\n",
       "      <th>Date</th>\n",
       "      <th>Open</th>\n",
       "      <th>High</th>\n",
       "      <th>Low</th>\n",
       "      <th>Close</th>\n",
       "      <th>Adj Close</th>\n",
       "      <th>Volume</th>\n",
       "    </tr>\n",
       "  </thead>\n",
       "  <tbody>\n",
       "    <tr>\n",
       "      <th>4150</th>\n",
       "      <td>2021-02-12</td>\n",
       "      <td>2090.250000</td>\n",
       "      <td>2108.820068</td>\n",
       "      <td>2083.129883</td>\n",
       "      <td>2104.110107</td>\n",
       "      <td>2104.110107</td>\n",
       "      <td>855700</td>\n",
       "    </tr>\n",
       "    <tr>\n",
       "      <th>4151</th>\n",
       "      <td>2021-02-16</td>\n",
       "      <td>2104.360107</td>\n",
       "      <td>2152.679932</td>\n",
       "      <td>2104.360107</td>\n",
       "      <td>2121.899902</td>\n",
       "      <td>2121.899902</td>\n",
       "      <td>1132900</td>\n",
       "    </tr>\n",
       "    <tr>\n",
       "      <th>4152</th>\n",
       "      <td>2021-02-17</td>\n",
       "      <td>2100.000000</td>\n",
       "      <td>2133.659912</td>\n",
       "      <td>2098.919922</td>\n",
       "      <td>2128.310059</td>\n",
       "      <td>2128.310059</td>\n",
       "      <td>1070100</td>\n",
       "    </tr>\n",
       "    <tr>\n",
       "      <th>4153</th>\n",
       "      <td>2021-02-18</td>\n",
       "      <td>2110.389893</td>\n",
       "      <td>2132.735107</td>\n",
       "      <td>2103.709961</td>\n",
       "      <td>2117.199951</td>\n",
       "      <td>2117.199951</td>\n",
       "      <td>1121600</td>\n",
       "    </tr>\n",
       "    <tr>\n",
       "      <th>4154</th>\n",
       "      <td>2021-02-19</td>\n",
       "      <td>2119.270020</td>\n",
       "      <td>2130.530029</td>\n",
       "      <td>2097.409912</td>\n",
       "      <td>2101.139893</td>\n",
       "      <td>2101.139893</td>\n",
       "      <td>1457400</td>\n",
       "    </tr>\n",
       "  </tbody>\n",
       "</table>\n",
       "</div>"
      ],
      "text/plain": [
       "            Date         Open         High          Low        Close  \\\n",
       "4150  2021-02-12  2090.250000  2108.820068  2083.129883  2104.110107   \n",
       "4151  2021-02-16  2104.360107  2152.679932  2104.360107  2121.899902   \n",
       "4152  2021-02-17  2100.000000  2133.659912  2098.919922  2128.310059   \n",
       "4153  2021-02-18  2110.389893  2132.735107  2103.709961  2117.199951   \n",
       "4154  2021-02-19  2119.270020  2130.530029  2097.409912  2101.139893   \n",
       "\n",
       "        Adj Close   Volume  \n",
       "4150  2104.110107   855700  \n",
       "4151  2121.899902  1132900  \n",
       "4152  2128.310059  1070100  \n",
       "4153  2117.199951  1121600  \n",
       "4154  2101.139893  1457400  "
      ]
     },
     "execution_count": 2,
     "metadata": {},
     "output_type": "execute_result"
    }
   ],
   "source": [
    "data = pd.read_csv('GOOG.csv', date_parser = True)\n",
    "data.tail()"
   ]
  },
  {
   "cell_type": "code",
   "execution_count": 3,
   "metadata": {},
   "outputs": [],
   "source": [
    "data_training = data[data['Date']<'2019-01-01'].copy()\n",
    "data_training1 = data[data['Date']<'2019-01-01'].copy()\n",
    "data_test = data[data['Date']>='2019-01-01'].copy()"
   ]
  },
  {
   "cell_type": "code",
   "execution_count": 4,
   "metadata": {},
   "outputs": [],
   "source": [
    "data_training = data_training.drop(['Date', 'Adj Close'], axis = 1)"
   ]
  },
  {
   "cell_type": "code",
   "execution_count": 5,
   "metadata": {},
   "outputs": [
    {
     "data": {
      "text/plain": [
       "array([[3.30298164e-04, 9.44785459e-04, 0.00000000e+00, 1.34908021e-04,\n",
       "        5.43577158e-01],\n",
       "       [7.42148227e-04, 2.98909923e-03, 1.88269054e-03, 3.39307537e-03,\n",
       "        2.77885876e-01],\n",
       "       [4.71386886e-03, 4.78092896e-03, 5.42828241e-03, 3.83867225e-03,\n",
       "        2.22151352e-01],\n",
       "       ...,\n",
       "       [7.92197108e-01, 8.11970141e-01, 7.90196475e-01, 8.15799920e-01,\n",
       "        2.54669035e-02],\n",
       "       [8.18777193e-01, 8.21510648e-01, 8.20249255e-01, 8.10219301e-01,\n",
       "        1.70461017e-02],\n",
       "       [8.19874096e-01, 8.19172449e-01, 8.12332341e-01, 8.09012935e-01,\n",
       "        1.79972283e-02]])"
      ]
     },
     "execution_count": 5,
     "metadata": {},
     "output_type": "execute_result"
    }
   ],
   "source": [
    "scaler = MinMaxScaler()\n",
    "data_training = scaler.fit_transform(data_training)\n",
    "data_training"
   ]
  },
  {
   "cell_type": "code",
   "execution_count": 6,
   "metadata": {},
   "outputs": [],
   "source": [
    "X_train = []\n",
    "y_train = []\n",
    "\n",
    "for i in range(60, data_training.shape[0]):\n",
    "    X_train.append(data_training[i-60:i])\n",
    "    y_train.append(data_training[i, 0])\n",
    "    \n",
    "X_train, y_train = np.array(X_train), np.array(y_train)"
   ]
  },
  {
   "cell_type": "code",
   "execution_count": 7,
   "metadata": {},
   "outputs": [
    {
     "data": {
      "text/plain": [
       "(3557, 60, 5)"
      ]
     },
     "execution_count": 7,
     "metadata": {},
     "output_type": "execute_result"
    }
   ],
   "source": [
    "X_train.shape"
   ]
  },
  {
   "cell_type": "code",
   "execution_count": 8,
   "metadata": {},
   "outputs": [],
   "source": [
    "from tensorflow.keras import Sequential\n",
    "from tensorflow.keras.layers import Dense, LSTM, Dropout"
   ]
  },
  {
   "cell_type": "code",
   "execution_count": 9,
   "metadata": {},
   "outputs": [],
   "source": [
    "regressor = Sequential()\n",
    "\n",
    "regressor.add(LSTM(units = 50, return_sequences = True, input_shape = (X_train.shape[1], 5)))\n",
    "regressor.add(Dropout(0.2))\n",
    "\n",
    "regressor.add(LSTM(units = 50, return_sequences = True))\n",
    "regressor.add(Dropout(0.2))\n",
    "\n",
    "regressor.add(LSTM(units = 50, return_sequences = True))\n",
    "regressor.add(Dropout(0.2))\n",
    "\n",
    "regressor.add(LSTM(units = 50))\n",
    "regressor.add(Dropout(0.2))\n",
    "\n",
    "regressor.add(Dense(units = 1))"
   ]
  },
  {
   "cell_type": "code",
   "execution_count": 10,
   "metadata": {},
   "outputs": [
    {
     "name": "stdout",
     "output_type": "stream",
     "text": [
      "Model: \"sequential\"\n",
      "_________________________________________________________________\n",
      "Layer (type)                 Output Shape              Param #   \n",
      "=================================================================\n",
      "lstm (LSTM)                  (None, 60, 50)            11200     \n",
      "_________________________________________________________________\n",
      "dropout (Dropout)            (None, 60, 50)            0         \n",
      "_________________________________________________________________\n",
      "lstm_1 (LSTM)                (None, 60, 50)            20200     \n",
      "_________________________________________________________________\n",
      "dropout_1 (Dropout)          (None, 60, 50)            0         \n",
      "_________________________________________________________________\n",
      "lstm_2 (LSTM)                (None, 60, 50)            20200     \n",
      "_________________________________________________________________\n",
      "dropout_2 (Dropout)          (None, 60, 50)            0         \n",
      "_________________________________________________________________\n",
      "lstm_3 (LSTM)                (None, 50)                20200     \n",
      "_________________________________________________________________\n",
      "dropout_3 (Dropout)          (None, 50)                0         \n",
      "_________________________________________________________________\n",
      "dense (Dense)                (None, 1)                 51        \n",
      "=================================================================\n",
      "Total params: 71,851\n",
      "Trainable params: 71,851\n",
      "Non-trainable params: 0\n",
      "_________________________________________________________________\n"
     ]
    }
   ],
   "source": [
    "regressor.summary()"
   ]
  },
  {
   "cell_type": "code",
   "execution_count": 11,
   "metadata": {},
   "outputs": [
    {
     "name": "stdout",
     "output_type": "stream",
     "text": [
      "Epoch 1/30\n",
      "112/112 [==============================] - 19s 112ms/step - loss: 0.0165\n",
      "Epoch 2/30\n",
      "112/112 [==============================] - 15s 132ms/step - loss: 0.0020\n",
      "Epoch 3/30\n",
      "112/112 [==============================] - 15s 132ms/step - loss: 0.0026\n",
      "Epoch 4/30\n",
      "112/112 [==============================] - 15s 133ms/step - loss: 0.0018\n",
      "Epoch 5/30\n",
      "112/112 [==============================] - 16s 139ms/step - loss: 0.0017\n",
      "Epoch 6/30\n",
      "112/112 [==============================] - 15s 137ms/step - loss: 0.0019\n",
      "Epoch 7/30\n",
      "112/112 [==============================] - 19s 173ms/step - loss: 0.0015\n",
      "Epoch 8/30\n",
      "112/112 [==============================] - 16s 141ms/step - loss: 0.0013\n",
      "Epoch 9/30\n",
      "112/112 [==============================] - 16s 142ms/step - loss: 0.0014\n",
      "Epoch 10/30\n",
      "112/112 [==============================] - 15s 137ms/step - loss: 0.0012\n",
      "Epoch 11/30\n",
      "112/112 [==============================] - 15s 134ms/step - loss: 0.0012\n",
      "Epoch 12/30\n",
      "112/112 [==============================] - 15s 136ms/step - loss: 0.0010\n",
      "Epoch 13/30\n",
      "112/112 [==============================] - 15s 138ms/step - loss: 0.0012\n",
      "Epoch 14/30\n",
      "112/112 [==============================] - 15s 134ms/step - loss: 0.0011\n",
      "Epoch 15/30\n",
      "112/112 [==============================] - 15s 131ms/step - loss: 9.3578e-04\n",
      "Epoch 16/30\n",
      "112/112 [==============================] - 15s 133ms/step - loss: 0.0013\n",
      "Epoch 17/30\n",
      "112/112 [==============================] - 19s 169ms/step - loss: 0.0011\n",
      "Epoch 18/30\n",
      "112/112 [==============================] - 21s 191ms/step - loss: 0.0010\n",
      "Epoch 19/30\n",
      "112/112 [==============================] - 15s 136ms/step - loss: 8.0508e-04\n",
      "Epoch 20/30\n",
      "112/112 [==============================] - 22s 197ms/step - loss: 0.0011\n",
      "Epoch 21/30\n",
      "112/112 [==============================] - 19s 169ms/step - loss: 9.3131e-04\n",
      "Epoch 22/30\n",
      "112/112 [==============================] - 16s 140ms/step - loss: 8.5589e-04\n",
      "Epoch 23/30\n",
      "112/112 [==============================] - 24s 211ms/step - loss: 8.6005e-04\n",
      "Epoch 24/30\n",
      "112/112 [==============================] - 20s 181ms/step - loss: 8.0771e-04\n",
      "Epoch 25/30\n",
      "112/112 [==============================] - 18s 163ms/step - loss: 9.6961e-04\n",
      "Epoch 26/30\n",
      "112/112 [==============================] - 17s 156ms/step - loss: 9.0469e-04\n",
      "Epoch 27/30\n",
      "112/112 [==============================] - 15s 135ms/step - loss: 9.3274e-04\n",
      "Epoch 28/30\n",
      "112/112 [==============================] - 14s 121ms/step - loss: 7.8006e-04\n",
      "Epoch 29/30\n",
      "112/112 [==============================] - 13s 116ms/step - loss: 7.7204e-04\n",
      "Epoch 30/30\n",
      "112/112 [==============================] - 13s 116ms/step - loss: 8.2230e-04\n"
     ]
    },
    {
     "data": {
      "text/plain": [
       "<tensorflow.python.keras.callbacks.History at 0x7ffd3b81ef10>"
      ]
     },
     "execution_count": 11,
     "metadata": {},
     "output_type": "execute_result"
    }
   ],
   "source": [
    "regressor.compile(optimizer='Adam', loss = 'mean_squared_error')\n",
    "regressor.fit(X_train, y_train, epochs=30, batch_size=32)"
   ]
  },
  {
   "cell_type": "code",
   "execution_count": 15,
   "metadata": {},
   "outputs": [
    {
     "data": {
      "text/html": [
       "<div>\n",
       "<style scoped>\n",
       "    .dataframe tbody tr th:only-of-type {\n",
       "        vertical-align: middle;\n",
       "    }\n",
       "\n",
       "    .dataframe tbody tr th {\n",
       "        vertical-align: top;\n",
       "    }\n",
       "\n",
       "    .dataframe thead th {\n",
       "        text-align: right;\n",
       "    }\n",
       "</style>\n",
       "<table border=\"1\" class=\"dataframe\">\n",
       "  <thead>\n",
       "    <tr style=\"text-align: right;\">\n",
       "      <th></th>\n",
       "      <th>Date</th>\n",
       "      <th>Open</th>\n",
       "      <th>High</th>\n",
       "      <th>Low</th>\n",
       "      <th>Close</th>\n",
       "      <th>Adj Close</th>\n",
       "      <th>Volume</th>\n",
       "    </tr>\n",
       "  </thead>\n",
       "  <tbody>\n",
       "    <tr>\n",
       "      <th>3617</th>\n",
       "      <td>2019-01-02</td>\n",
       "      <td>1016.570007</td>\n",
       "      <td>1052.319946</td>\n",
       "      <td>1015.710022</td>\n",
       "      <td>1045.849976</td>\n",
       "      <td>1045.849976</td>\n",
       "      <td>1532600</td>\n",
       "    </tr>\n",
       "    <tr>\n",
       "      <th>3618</th>\n",
       "      <td>2019-01-03</td>\n",
       "      <td>1041.000000</td>\n",
       "      <td>1056.979980</td>\n",
       "      <td>1014.070007</td>\n",
       "      <td>1016.059998</td>\n",
       "      <td>1016.059998</td>\n",
       "      <td>1841100</td>\n",
       "    </tr>\n",
       "    <tr>\n",
       "      <th>3619</th>\n",
       "      <td>2019-01-04</td>\n",
       "      <td>1032.589966</td>\n",
       "      <td>1070.839966</td>\n",
       "      <td>1027.417969</td>\n",
       "      <td>1070.709961</td>\n",
       "      <td>1070.709961</td>\n",
       "      <td>2093900</td>\n",
       "    </tr>\n",
       "    <tr>\n",
       "      <th>3620</th>\n",
       "      <td>2019-01-07</td>\n",
       "      <td>1071.500000</td>\n",
       "      <td>1074.000000</td>\n",
       "      <td>1054.760010</td>\n",
       "      <td>1068.390015</td>\n",
       "      <td>1068.390015</td>\n",
       "      <td>1981900</td>\n",
       "    </tr>\n",
       "    <tr>\n",
       "      <th>3621</th>\n",
       "      <td>2019-01-08</td>\n",
       "      <td>1076.109985</td>\n",
       "      <td>1084.560059</td>\n",
       "      <td>1060.530029</td>\n",
       "      <td>1076.280029</td>\n",
       "      <td>1076.280029</td>\n",
       "      <td>1764900</td>\n",
       "    </tr>\n",
       "  </tbody>\n",
       "</table>\n",
       "</div>"
      ],
      "text/plain": [
       "            Date         Open         High          Low        Close  \\\n",
       "3617  2019-01-02  1016.570007  1052.319946  1015.710022  1045.849976   \n",
       "3618  2019-01-03  1041.000000  1056.979980  1014.070007  1016.059998   \n",
       "3619  2019-01-04  1032.589966  1070.839966  1027.417969  1070.709961   \n",
       "3620  2019-01-07  1071.500000  1074.000000  1054.760010  1068.390015   \n",
       "3621  2019-01-08  1076.109985  1084.560059  1060.530029  1076.280029   \n",
       "\n",
       "        Adj Close   Volume  \n",
       "3617  1045.849976  1532600  \n",
       "3618  1016.059998  1841100  \n",
       "3619  1070.709961  2093900  \n",
       "3620  1068.390015  1981900  \n",
       "3621  1076.280029  1764900  "
      ]
     },
     "execution_count": 15,
     "metadata": {},
     "output_type": "execute_result"
    }
   ],
   "source": [
    "data_test.head()"
   ]
  },
  {
   "cell_type": "code",
   "execution_count": 16,
   "metadata": {},
   "outputs": [],
   "source": [
    "past_60_days = data_training1.tail(60)"
   ]
  },
  {
   "cell_type": "code",
   "execution_count": 17,
   "metadata": {},
   "outputs": [
    {
     "data": {
      "text/html": [
       "<div>\n",
       "<style scoped>\n",
       "    .dataframe tbody tr th:only-of-type {\n",
       "        vertical-align: middle;\n",
       "    }\n",
       "\n",
       "    .dataframe tbody tr th {\n",
       "        vertical-align: top;\n",
       "    }\n",
       "\n",
       "    .dataframe thead th {\n",
       "        text-align: right;\n",
       "    }\n",
       "</style>\n",
       "<table border=\"1\" class=\"dataframe\">\n",
       "  <thead>\n",
       "    <tr style=\"text-align: right;\">\n",
       "      <th></th>\n",
       "      <th>Open</th>\n",
       "      <th>High</th>\n",
       "      <th>Low</th>\n",
       "      <th>Close</th>\n",
       "      <th>Volume</th>\n",
       "    </tr>\n",
       "  </thead>\n",
       "  <tbody>\n",
       "    <tr>\n",
       "      <th>0</th>\n",
       "      <td>1195.329956</td>\n",
       "      <td>1197.510010</td>\n",
       "      <td>1155.576050</td>\n",
       "      <td>1168.189941</td>\n",
       "      <td>2209500</td>\n",
       "    </tr>\n",
       "    <tr>\n",
       "      <th>1</th>\n",
       "      <td>1167.500000</td>\n",
       "      <td>1173.500000</td>\n",
       "      <td>1145.119995</td>\n",
       "      <td>1157.349976</td>\n",
       "      <td>1184300</td>\n",
       "    </tr>\n",
       "    <tr>\n",
       "      <th>2</th>\n",
       "      <td>1150.109985</td>\n",
       "      <td>1168.000000</td>\n",
       "      <td>1127.364014</td>\n",
       "      <td>1148.969971</td>\n",
       "      <td>1932400</td>\n",
       "    </tr>\n",
       "    <tr>\n",
       "      <th>3</th>\n",
       "      <td>1146.150024</td>\n",
       "      <td>1154.349976</td>\n",
       "      <td>1137.572021</td>\n",
       "      <td>1138.819946</td>\n",
       "      <td>1308700</td>\n",
       "    </tr>\n",
       "    <tr>\n",
       "      <th>4</th>\n",
       "      <td>1131.079956</td>\n",
       "      <td>1132.170044</td>\n",
       "      <td>1081.130005</td>\n",
       "      <td>1081.219971</td>\n",
       "      <td>2675700</td>\n",
       "    </tr>\n",
       "  </tbody>\n",
       "</table>\n",
       "</div>"
      ],
      "text/plain": [
       "          Open         High          Low        Close   Volume\n",
       "0  1195.329956  1197.510010  1155.576050  1168.189941  2209500\n",
       "1  1167.500000  1173.500000  1145.119995  1157.349976  1184300\n",
       "2  1150.109985  1168.000000  1127.364014  1148.969971  1932400\n",
       "3  1146.150024  1154.349976  1137.572021  1138.819946  1308700\n",
       "4  1131.079956  1132.170044  1081.130005  1081.219971  2675700"
      ]
     },
     "execution_count": 17,
     "metadata": {},
     "output_type": "execute_result"
    }
   ],
   "source": [
    "df = past_60_days.append(data_test, ignore_index = True)\n",
    "df = df.drop(['Date', 'Adj Close'], axis = 1)\n",
    "df.head()"
   ]
  },
  {
   "cell_type": "code",
   "execution_count": 18,
   "metadata": {},
   "outputs": [
    {
     "data": {
      "text/plain": [
       "array([[0.93805611, 0.93755773, 0.92220906, 0.91781776, 0.02667489],\n",
       "       [0.91527437, 0.91792904, 0.91350452, 0.90892169, 0.0142533 ],\n",
       "       [0.90103881, 0.91343268, 0.89872289, 0.90204445, 0.02331748],\n",
       "       ...,\n",
       "       [1.67862365, 1.70288006, 1.70753107, 1.7057627 , 0.01286963],\n",
       "       [1.68712887, 1.70212401, 1.71151872, 1.69664493, 0.01349361],\n",
       "       [1.69439819, 1.70032131, 1.70627401, 1.68346487, 0.01756225]])"
      ]
     },
     "execution_count": 18,
     "metadata": {},
     "output_type": "execute_result"
    }
   ],
   "source": [
    "inputs = scaler.transform(df)\n",
    "inputs"
   ]
  },
  {
   "cell_type": "code",
   "execution_count": 19,
   "metadata": {},
   "outputs": [
    {
     "data": {
      "text/plain": [
       "((538, 60, 5), (538,))"
      ]
     },
     "execution_count": 19,
     "metadata": {},
     "output_type": "execute_result"
    }
   ],
   "source": [
    "X_test = []\n",
    "y_test = []\n",
    "\n",
    "for i in range(60, inputs.shape[0]):\n",
    "    X_test.append(inputs[i-60:i])\n",
    "    y_test.append(inputs[i, 0])\n",
    "\n",
    "X_test, y_test = np.array(X_test), np.array(y_test)\n",
    "X_test.shape, y_test.shape"
   ]
  },
  {
   "cell_type": "code",
   "execution_count": 20,
   "metadata": {},
   "outputs": [],
   "source": [
    "y_pred = regressor.predict(X_test)"
   ]
  },
  {
   "cell_type": "code",
   "execution_count": 21,
   "metadata": {},
   "outputs": [
    {
     "data": {
      "text/plain": [
       "array([8.18605127e-04, 8.17521128e-04, 8.32487534e-04, 8.20673293e-04,\n",
       "       1.21162615e-08])"
      ]
     },
     "execution_count": 21,
     "metadata": {},
     "output_type": "execute_result"
    }
   ],
   "source": [
    "scaler.scale_"
   ]
  },
  {
   "cell_type": "code",
   "execution_count": 22,
   "metadata": {},
   "outputs": [
    {
     "data": {
      "text/plain": [
       "1221.5901990069017"
      ]
     },
     "execution_count": 22,
     "metadata": {},
     "output_type": "execute_result"
    }
   ],
   "source": [
    "scale = 1/8.18605127e-04\n",
    "scale"
   ]
  },
  {
   "cell_type": "code",
   "execution_count": 23,
   "metadata": {},
   "outputs": [],
   "source": [
    "y_pred = y_pred*scale\n",
    "y_test = y_test*scale"
   ]
  },
  {
   "cell_type": "code",
   "execution_count": 25,
   "metadata": {},
   "outputs": [
    {
     "data": {
      "image/png": "[encoded data removed]",
      "text/plain": [
       "<Figure size 1008x360 with 1 Axes>"
      ]
     },
     "metadata": {
      "needs_background": "light"
     },
     "output_type": "display_data"
    }
   ],
   "source": [
    "plt.figure(figsize=(14,5))\n",
    "plt.plot(y_test, color = 'red', label = 'Real Google Stock Price')\n",
    "plt.plot(y_pred, color = 'blue', label = 'Predicted Google Stock Price')\n",
    "plt.title('Google Stock Price Prediction')\n",
    "plt.xlabel('Time')\n",
    "plt.ylabel('Google Stock Price')\n",
    "plt.legend()\n",
    "plt.savefig('GoogleStockPrice.png')\n",
    "plt.show()\n"
   ]
  },
  {
   "cell_type": "code",
   "execution_count": null,
   "metadata": {},
   "outputs": [],
   "source": []
  }
 ],
 "metadata": {
  "kernelspec": {
   "display_name": "Python 3",
   "language": "python",
   "name": "python3"
  },
  "language_info": {
   "codemirror_mode": {
    "name": "ipython",
    "version": 3
   },
   "file_extension": ".py",
   "mimetype": "text/x-python",
   "name": "python",
   "nbconvert_exporter": "python",
   "pygments_lexer": "ipython3",
   "version": "3.8.3"
  }
 },
 "nbformat": 4,
 "nbformat_minor": 4
}
